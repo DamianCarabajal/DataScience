{
  "nbformat": 4,
  "nbformat_minor": 0,
  "metadata": {
    "colab": {
      "provenance": [],
      "authorship_tag": "ABX9TyOVaXY1BXhbEhvwyVMF/9tR",
      "include_colab_link": true
    },
    "kernelspec": {
      "name": "python3",
      "display_name": "Python 3"
    },
    "language_info": {
      "name": "python"
    }
  },
  "cells": [
    {
      "cell_type": "markdown",
      "metadata": {
        "id": "view-in-github",
        "colab_type": "text"
      },
      "source": [
        "<a href=\"https://colab.research.google.com/github/DamianCarabajal/DataScience/blob/main/Alura_DS1.ipynb\" target=\"_parent\"><img src=\"https://colab.research.google.com/assets/colab-badge.svg\" alt=\"Open In Colab\"/></a>"
      ]
    },
    {
      "cell_type": "markdown",
      "source": [
        "# Clase 1 - Variables"
      ],
      "metadata": {
        "id": "SUM6IgH3zVqv"
      }
    },
    {
      "cell_type": "code",
      "source": [
        "nombre = 'Damian'"
      ],
      "metadata": {
        "id": "H8JV2PrSzmva"
      },
      "execution_count": 1,
      "outputs": []
    },
    {
      "cell_type": "code",
      "source": [
        "edad = 27"
      ],
      "metadata": {
        "id": "-m-XAiEzzpti"
      },
      "execution_count": 2,
      "outputs": []
    },
    {
      "cell_type": "markdown",
      "source": [
        "#Funciones"
      ],
      "metadata": {
        "id": "6ltjc8ZD0NNp"
      }
    },
    {
      "cell_type": "code",
      "source": [
        "print('El nombre es Damian y su edad es 27 años')"
      ],
      "metadata": {
        "colab": {
          "base_uri": "https://localhost:8080/"
        },
        "id": "rkq3sAMnztuS",
        "outputId": "d0a00769-c20e-47e3-d720-c1b1a8f66e2f"
      },
      "execution_count": 3,
      "outputs": [
        {
          "output_type": "stream",
          "name": "stdout",
          "text": [
            "El nombre es Damian y su edad es 27 años\n"
          ]
        }
      ]
    },
    {
      "cell_type": "code",
      "source": [
        "print(f'El nombre es {nombre} y su edad es {edad} años')"
      ],
      "metadata": {
        "colab": {
          "base_uri": "https://localhost:8080/"
        },
        "id": "FbSb9DWQ0FF5",
        "outputId": "9219f004-0d10-4810-82a7-9aef9a8a92c3"
      },
      "execution_count": 4,
      "outputs": [
        {
          "output_type": "stream",
          "name": "stdout",
          "text": [
            "El nombre es Damian y su edad es 27 años\n"
          ]
        }
      ]
    },
    {
      "cell_type": "code",
      "source": [
        "def saludar():\n",
        "  nombre=input('Digite su nombre: ')\n",
        "  print(f'Hola {nombre} sea bienvenido')"
      ],
      "metadata": {
        "id": "B9Z9je0w0kWw"
      },
      "execution_count": 5,
      "outputs": []
    },
    {
      "cell_type": "code",
      "source": [
        "saludar()"
      ],
      "metadata": {
        "colab": {
          "base_uri": "https://localhost:8080/"
        },
        "id": "doe6cpfZ0_YY",
        "outputId": "58b80c55-87a1-4aa6-d487-ac820a72a853"
      },
      "execution_count": 6,
      "outputs": [
        {
          "output_type": "stream",
          "name": "stdout",
          "text": [
            "Digite su nombre: Nicolas\n",
            "Hola Nicolas sea bienvenido\n"
          ]
        }
      ]
    },
    {
      "cell_type": "markdown",
      "source": [
        "#Parámetros"
      ],
      "metadata": {
        "id": "3NeqkBTRrzQx"
      }
    },
    {
      "cell_type": "code",
      "source": [
        "def saludar_con_parametros(nombre):\n",
        "  print(f'Bienvenido {nombre}!')\n",
        "\n",
        "saludar_con_parametros('damian')"
      ],
      "metadata": {
        "colab": {
          "base_uri": "https://localhost:8080/"
        },
        "id": "MyP0XN0k1CsH",
        "outputId": "2119d0f0-03d9-4c83-cad8-230fe965a7de"
      },
      "execution_count": 4,
      "outputs": [
        {
          "output_type": "stream",
          "name": "stdout",
          "text": [
            "Bienvenido damian!\n"
          ]
        }
      ]
    },
    {
      "cell_type": "markdown",
      "source": [
        "#Condicionales"
      ],
      "metadata": {
        "id": "oxEVyIohrwTH"
      }
    },
    {
      "cell_type": "code",
      "source": [
        "edad =25\n",
        "\n",
        "def certificar_si_puede_conducir(edad):\n",
        "  if edad >= 18:\n",
        "    print('Usted tiene edad suficiente para conducir')\n",
        "  else:\n",
        "    print('Usted no tiene edad suficiente para conducir')\n",
        "\n",
        "certificar_si_puede_conducir(edad)"
      ],
      "metadata": {
        "colab": {
          "base_uri": "https://localhost:8080/"
        },
        "id": "-pyTeHV9qOcs",
        "outputId": "69769998-9ca0-41eb-d3d9-8ecdd2cc1608"
      },
      "execution_count": 10,
      "outputs": [
        {
          "output_type": "stream",
          "name": "stdout",
          "text": [
            "Ingrese edad: 15\n",
            "Usted no tiene edad suficiente para conducir\n"
          ]
        }
      ]
    },
    {
      "cell_type": "markdown",
      "source": [
        "#Condicional sin parámetro y conversion del tipo de dato"
      ],
      "metadata": {
        "id": "p9bf-pAXsY-Y"
      }
    },
    {
      "cell_type": "code",
      "source": [
        "def verificar_si_puede_conducir_sin_parametro():\n",
        "  \n",
        "  edad = int(input('ingrese edad: '))\n",
        "  if edad >= 18:\n",
        "    print('Usted tiene edad suficiente para conducir')\n",
        "  else:\n",
        "    print('Usted no tiene edad suficiente para conducir')\n",
        "\n",
        "verificar_si_puede_conducir_sin_parametro()"
      ],
      "metadata": {
        "id": "QCCJ2Y4Xq4tG"
      },
      "execution_count": 8,
      "outputs": []
    },
    {
      "cell_type": "code",
      "source": [
        "edad=18\n",
        "nombre='Christian'"
      ],
      "metadata": {
        "id": "Nq3VNWcytELg"
      },
      "execution_count": 12,
      "outputs": []
    },
    {
      "cell_type": "code",
      "source": [
        "edades = [13,15,12,15,50]"
      ],
      "metadata": {
        "id": "pQm7OCM2tH4r"
      },
      "execution_count": 13,
      "outputs": []
    },
    {
      "cell_type": "code",
      "source": [
        "edades"
      ],
      "metadata": {
        "colab": {
          "base_uri": "https://localhost:8080/"
        },
        "id": "dmHOg7qMtPqD",
        "outputId": "315f7e02-6c0d-49d7-c541-39f8416fd478"
      },
      "execution_count": 14,
      "outputs": [
        {
          "output_type": "execute_result",
          "data": {
            "text/plain": [
              "[13, 15, 12, 15, 50]"
            ]
          },
          "metadata": {},
          "execution_count": 14
        }
      ]
    },
    {
      "cell_type": "code",
      "source": [
        "print('edad es de tipo: '+str(type(edad)))\n",
        "print('nombre es de tipo: '+str(type(nombre)))\n",
        "print('edades es de tipo: '+str(type(edades)))\n"
      ],
      "metadata": {
        "colab": {
          "base_uri": "https://localhost:8080/"
        },
        "id": "GSI5F-RutQIT",
        "outputId": "547881a9-2a70-4629-89e9-827e80e6dcc3"
      },
      "execution_count": 18,
      "outputs": [
        {
          "output_type": "stream",
          "name": "stdout",
          "text": [
            "edad es de tipo: <class 'int'>\n",
            "nombre es de tipo: <class 'str'>\n",
            "edades es de tipo: <class 'list'>\n"
          ]
        }
      ]
    },
    {
      "cell_type": "code",
      "source": [
        "# [13, 15, 12, 15, 50]\n",
        "#   0   1   2   3   4\n",
        "edades[1]"
      ],
      "metadata": {
        "colab": {
          "base_uri": "https://localhost:8080/"
        },
        "id": "O1qufwmgti21",
        "outputId": "c61bd914-8e5b-47ee-b105-7869e61930e2"
      },
      "execution_count": 19,
      "outputs": [
        {
          "output_type": "execute_result",
          "data": {
            "text/plain": [
              "15"
            ]
          },
          "metadata": {},
          "execution_count": 19
        }
      ]
    },
    {
      "cell_type": "code",
      "source": [
        "edades[0:3] #slice"
      ],
      "metadata": {
        "colab": {
          "base_uri": "https://localhost:8080/"
        },
        "id": "CSEwSGfruOI6",
        "outputId": "eb98659a-2d5d-43b5-9851-56cae0bc611c"
      },
      "execution_count": 20,
      "outputs": [
        {
          "output_type": "execute_result",
          "data": {
            "text/plain": [
              "[13, 15, 12]"
            ]
          },
          "metadata": {},
          "execution_count": 20
        }
      ]
    },
    {
      "cell_type": "code",
      "source": [
        "edades[:]"
      ],
      "metadata": {
        "colab": {
          "base_uri": "https://localhost:8080/"
        },
        "id": "aNQ4xo0MuSQ9",
        "outputId": "e9bc4786-8464-4abc-a369-b37e71c7582c"
      },
      "execution_count": 21,
      "outputs": [
        {
          "output_type": "execute_result",
          "data": {
            "text/plain": [
              "[13, 15, 12, 15, 50]"
            ]
          },
          "metadata": {},
          "execution_count": 21
        }
      ]
    },
    {
      "cell_type": "code",
      "source": [
        "edades[1:]"
      ],
      "metadata": {
        "colab": {
          "base_uri": "https://localhost:8080/"
        },
        "id": "o7iNqBQluYrE",
        "outputId": "aaab65f9-632b-4670-d59d-3b144d16b35b"
      },
      "execution_count": 22,
      "outputs": [
        {
          "output_type": "execute_result",
          "data": {
            "text/plain": [
              "[15, 12, 15, 50]"
            ]
          },
          "metadata": {},
          "execution_count": 22
        }
      ]
    },
    {
      "cell_type": "code",
      "source": [
        "# [13, 15, 12, 15, 50]\n",
        "#   0   1   2   3   4\n",
        "#   0  -4  -3  -2  -1\n",
        "edades[-1]"
      ],
      "metadata": {
        "colab": {
          "base_uri": "https://localhost:8080/"
        },
        "id": "KWz5Y-HguarH",
        "outputId": "ed77144f-c9a2-425c-a761-4340bec71c95"
      },
      "execution_count": 23,
      "outputs": [
        {
          "output_type": "execute_result",
          "data": {
            "text/plain": [
              "50"
            ]
          },
          "metadata": {},
          "execution_count": 23
        }
      ]
    },
    {
      "cell_type": "markdown",
      "source": [
        "#Ciclos y bucles"
      ],
      "metadata": {
        "id": "_wwcJ3kgv0QW"
      }
    },
    {
      "cell_type": "code",
      "source": [
        "#Bucle\n",
        "edades = [13,15,12,15,50]\n",
        "\n",
        "def certificar_si_puede_conducir(edad):\n",
        "  if edad >= 18:\n",
        "    print('Usted tiene edad suficiente para conducir')\n",
        "  else:\n",
        "    print('Usted no tiene edad suficiente para conducir')\n",
        "\n",
        "certificar_si_puede_conducir(edad)\n",
        "\n",
        "for edad in edades:\n",
        "  certificar_si_puede_conducir(edad)\n"
      ],
      "metadata": {
        "colab": {
          "base_uri": "https://localhost:8080/"
        },
        "id": "glMyOhFfuoAM",
        "outputId": "71322890-2d6c-43ed-f295-e116b0eb757f"
      },
      "execution_count": 24,
      "outputs": [
        {
          "output_type": "stream",
          "name": "stdout",
          "text": [
            "Usted tiene edad suficiente para conducir\n",
            "Usted no tiene edad suficiente para conducir\n",
            "Usted no tiene edad suficiente para conducir\n",
            "Usted no tiene edad suficiente para conducir\n",
            "Usted no tiene edad suficiente para conducir\n",
            "Usted tiene edad suficiente para conducir\n"
          ]
        }
      ]
    },
    {
      "cell_type": "code",
      "source": [
        "edades = [13,15,12,15,50]\n",
        "\n",
        "def certificar_si_puede_conducir(edad):\n",
        "  for edad in edades:\n",
        "    if edad >= 18:\n",
        "      print('Usted tiene edad suficiente para conducir')\n",
        "    else:\n",
        "      print('Usted no tiene edad suficiente para conducir')\n",
        "\n",
        "certificar_si_puede_conducir(edad)"
      ],
      "metadata": {
        "colab": {
          "base_uri": "https://localhost:8080/"
        },
        "id": "SA0l9EAzvuj5",
        "outputId": "2d8d73c2-2bf1-4530-fe96-40fc6008e309"
      },
      "execution_count": 25,
      "outputs": [
        {
          "output_type": "stream",
          "name": "stdout",
          "text": [
            "Usted no tiene edad suficiente para conducir\n",
            "Usted no tiene edad suficiente para conducir\n",
            "Usted no tiene edad suficiente para conducir\n",
            "Usted no tiene edad suficiente para conducir\n",
            "Usted tiene edad suficiente para conducir\n"
          ]
        }
      ]
    },
    {
      "cell_type": "code",
      "source": [
        "verificaciones=[]\n",
        "edades = [13,15,20]\n",
        "\n",
        "def verificar_si_puede_conducir_bool(verificaciones, edades):\n",
        "  for edad in edades:\n",
        "    if edad >= 18:\n",
        "      verificaciones.append(True)\n",
        "    else:\n",
        "      verificaciones.append(False)\n",
        "  for verificacion in verificaciones:\n",
        "    if verificacion == True:\n",
        "     print('Usted tiene edad suficiente para conducir')\n",
        "    else:\n",
        "      print('Usted no tiene edad suficiente para conducir')\n",
        "\n",
        "verificar_si_puede_conducir_bool(verificaciones,edades)"
      ],
      "metadata": {
        "colab": {
          "base_uri": "https://localhost:8080/"
        },
        "id": "b-mG9cFZwMYN",
        "outputId": "58d77df0-6f7e-4b53-e565-e9f844c818b4"
      },
      "execution_count": 31,
      "outputs": [
        {
          "output_type": "stream",
          "name": "stdout",
          "text": [
            "Usted no tiene edad suficiente para conducir\n",
            "Usted no tiene edad suficiente para conducir\n",
            "Usted tiene edad suficiente para conducir\n"
          ]
        }
      ]
    },
    {
      "cell_type": "code",
      "source": [
        "verificaciones"
      ],
      "metadata": {
        "colab": {
          "base_uri": "https://localhost:8080/"
        },
        "id": "DWI8B0IQxKNB",
        "outputId": "9705645b-1307-42a5-ea18-313efb0a6196"
      },
      "execution_count": 30,
      "outputs": [
        {
          "output_type": "execute_result",
          "data": {
            "text/plain": [
              "[False, False, True]"
            ]
          },
          "metadata": {},
          "execution_count": 30
        }
      ]
    },
    {
      "cell_type": "markdown",
      "source": [
        "#Lista con diferentes tipos de datos"
      ],
      "metadata": {
        "id": "anoWfdMpySyW"
      }
    },
    {
      "cell_type": "code",
      "source": [
        "lista_mixta = ['Mariana',25,True,'Mexico']\n",
        "lista_mixta"
      ],
      "metadata": {
        "colab": {
          "base_uri": "https://localhost:8080/"
        },
        "id": "1nz26J27xmMf",
        "outputId": "4aa259e9-7fd5-4c40-e4bb-7eca40418874"
      },
      "execution_count": 32,
      "outputs": [
        {
          "output_type": "execute_result",
          "data": {
            "text/plain": [
              "['Mariana', 25, True, 'Mexico']"
            ]
          },
          "metadata": {},
          "execution_count": 32
        }
      ]
    },
    {
      "cell_type": "code",
      "source": [
        "for elemento in lista_mixta:\n",
        "  print(f'El elemento {elemento} de la lista es de tipo: ',type(elemento))"
      ],
      "metadata": {
        "colab": {
          "base_uri": "https://localhost:8080/"
        },
        "id": "DnK6Pz1NydGp",
        "outputId": "333e51bc-e997-49df-caef-fb90097681dc"
      },
      "execution_count": 33,
      "outputs": [
        {
          "output_type": "stream",
          "name": "stdout",
          "text": [
            "El elemento Mariana de la lista es de tipo:  <class 'str'>\n",
            "El elemento 25 de la lista es de tipo:  <class 'int'>\n",
            "El elemento True de la lista es de tipo:  <class 'bool'>\n",
            "El elemento Mexico de la lista es de tipo:  <class 'str'>\n"
          ]
        }
      ]
    },
    {
      "cell_type": "markdown",
      "source": [
        "#Importando bibliotecas"
      ],
      "metadata": {
        "id": "2haY9pQIzUgO"
      }
    },
    {
      "cell_type": "code",
      "source": [
        "from random import randrange,seed"
      ],
      "metadata": {
        "id": "JuQx2sSiyo7K"
      },
      "execution_count": 40,
      "outputs": []
    },
    {
      "cell_type": "code",
      "source": [
        "randrange(0,11)"
      ],
      "metadata": {
        "colab": {
          "base_uri": "https://localhost:8080/"
        },
        "id": "ReI76TwqzazV",
        "outputId": "ce2c3f9f-b0d0-4a2b-a163-53a3b57bc951"
      },
      "execution_count": 36,
      "outputs": [
        {
          "output_type": "execute_result",
          "data": {
            "text/plain": [
              "9"
            ]
          },
          "metadata": {},
          "execution_count": 36
        }
      ]
    },
    {
      "cell_type": "code",
      "source": [
        "notas_matematicas = []\n",
        "seed(8)\n",
        "for notas in range(6):\n",
        "  notas_matematicas.append(randrange(0,11))"
      ],
      "metadata": {
        "id": "Z9_JQGoCzchT"
      },
      "execution_count": 43,
      "outputs": []
    },
    {
      "cell_type": "code",
      "source": [
        "notas_matematicas"
      ],
      "metadata": {
        "colab": {
          "base_uri": "https://localhost:8080/"
        },
        "id": "yJYhgmHL0Ila",
        "outputId": "8138b191-2111-4f8b-b691-f6b552c95afd"
      },
      "execution_count": 44,
      "outputs": [
        {
          "output_type": "execute_result",
          "data": {
            "text/plain": [
              "[3, 5, 6, 2, 3, 0]"
            ]
          },
          "metadata": {},
          "execution_count": 44
        }
      ]
    },
    {
      "cell_type": "code",
      "source": [
        "len(notas_matematicas)"
      ],
      "metadata": {
        "colab": {
          "base_uri": "https://localhost:8080/"
        },
        "id": "Hr_D2Ju50J9c",
        "outputId": "eaf72075-7fd4-435f-ae37-a5c74abe2b29"
      },
      "execution_count": 39,
      "outputs": [
        {
          "output_type": "execute_result",
          "data": {
            "text/plain": [
              "6"
            ]
          },
          "metadata": {},
          "execution_count": 39
        }
      ]
    },
    {
      "cell_type": "code",
      "source": [],
      "metadata": {
        "id": "c3gCPTJ60N5P"
      },
      "execution_count": null,
      "outputs": []
    },
    {
      "cell_type": "markdown",
      "source": [
        "#Biblioteca Matplotlib"
      ],
      "metadata": {
        "id": "26yU44qi1EVz"
      }
    },
    {
      "cell_type": "code",
      "source": [
        "import matplotlib.pyplot as plt"
      ],
      "metadata": {
        "id": "7ahD8R961HUv"
      },
      "execution_count": 45,
      "outputs": []
    },
    {
      "cell_type": "code",
      "source": [
        "x=list(range(1,7))\n",
        "y=notas_matematicas\n",
        "\n",
        "plt.plot(x,y, marker= 'o')\n",
        "plt.title('Grafico de las notas matematicas')\n",
        "plt.xlabel('Pruebas')\n",
        "plt.ylabel('Notas')\n",
        "plt.show()"
      ],
      "metadata": {
        "colab": {
          "base_uri": "https://localhost:8080/",
          "height": 295
        },
        "id": "60QNq1yd1R8a",
        "outputId": "a18bf123-e157-464c-81db-18c1d51446bd"
      },
      "execution_count": 54,
      "outputs": [
        {
          "output_type": "display_data",
          "data": {
            "text/plain": [
              "<Figure size 432x288 with 1 Axes>"
            ],
            "image/png": "[encoded data removed]"
          },
          "metadata": {
            "needs_background": "light"
          }
        }
      ]
    },
    {
      "cell_type": "code",
      "source": [],
      "metadata": {
        "id": "dA5kP8Zm1eBn"
      },
      "execution_count": null,
      "outputs": []
    }
  ]
}